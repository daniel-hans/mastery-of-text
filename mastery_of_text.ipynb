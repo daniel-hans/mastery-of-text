{
 "cells": [
  {
   "cell_type": "code",
   "execution_count": 3,
   "id": "f68e795a-650b-467d-aa3c-b4de025d65b5",
   "metadata": {},
   "outputs": [
    {
     "name": "stdout",
     "output_type": "stream",
     "text": [
      "Number of lines: 99969\n",
      "Number of words: 795227\n",
      "Occurrences of 'apostle': 47\n",
      "Most common word: the ( 64309 times )\n"
     ]
    }
   ],
   "source": [
    "import urllib.request\n",
    "import re\n",
    "from collections import Counter\n",
    "\n",
    "url = \"https://www.gutenberg.org/cache/epub/10/pg10.txt\"\n",
    "filename, _ = urllib.request.urlretrieve(url, \"pg10.txt\")\n",
    "\n",
    "with open(filename, encoding=\"utf-8\") as f:\n",
    "    pg10 = f.read()\n",
    "\n",
    "num_lines = pg10.count(\"\\n\") + 1\n",
    "words = re.findall(r\"[A-Za-z]+\", pg10)\n",
    "num_words = len(words)\n",
    "apostle_count = sum(1 for w in words if w.lower() == \"apostle\")\n",
    "word_counts = Counter(w.lower() for w in words)\n",
    "most_common_word, most_common_count = word_counts.most_common(1)[0]\n",
    "\n",
    "print(\"Number of lines:\", num_lines)\n",
    "print(\"Number of words:\", num_words)\n",
    "print(\"Occurrences of 'apostle':\", apostle_count)\n",
    "print(\"Most common word:\", most_common_word, \"(\", most_common_count, \"times )\")\n",
    "\n",
    "\n"
   ]
  },
  {
   "cell_type": "code",
   "execution_count": null,
   "id": "e858d0b0-9391-465d-881e-d4dd887e16ca",
   "metadata": {},
   "outputs": [],
   "source": []
  },
  {
   "cell_type": "code",
   "execution_count": null,
   "id": "a6c9acaa-8674-46c4-a8cd-7113524a5ce4",
   "metadata": {},
   "outputs": [],
   "source": []
  },
  {
   "cell_type": "code",
   "execution_count": null,
   "id": "f830be7c-0abc-40b4-85da-2b9d78bd5a9f",
   "metadata": {},
   "outputs": [],
   "source": []
  }
 ],
 "metadata": {
  "kernelspec": {
   "display_name": "Python [conda env:base] *",
   "language": "python",
   "name": "conda-base-py"
  },
  "language_info": {
   "codemirror_mode": {
    "name": "ipython",
    "version": 3
   },
   "file_extension": ".py",
   "mimetype": "text/x-python",
   "name": "python",
   "nbconvert_exporter": "python",
   "pygments_lexer": "ipython3",
   "version": "3.13.5"
  }
 },
 "nbformat": 4,
 "nbformat_minor": 5
}
